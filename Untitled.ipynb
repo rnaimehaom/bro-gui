{
 "cells": [
  {
   "cell_type": "code",
   "execution_count": 44,
   "id": "7e040de8",
   "metadata": {},
   "outputs": [],
   "source": [
    "import numpy as np\n",
    "\n",
    "from nextorch.parameter import ParameterSpace\n",
    "from brogui.utils.variables import OPTION_PARAMS, VariableFactory\n",
    "from nextorch import doe\n",
    "from nextorch.utils import unit_to_encode_ParameterSpace, encode_to_real_ParameterSpace"
   ]
  },
  {
   "cell_type": "code",
   "execution_count": 3,
   "id": "20720bce",
   "metadata": {},
   "outputs": [],
   "source": [
    "params = [VariableFactory(i) for i in OPTION_PARAMS]"
   ]
  },
  {
   "cell_type": "code",
   "execution_count": 7,
   "id": "fe149a1c",
   "metadata": {},
   "outputs": [],
   "source": [
    "bo_params = [i.parameter() for i in params]\n",
    "parameter_space = ParameterSpace(bo_params)"
   ]
  },
  {
   "cell_type": "code",
   "execution_count": 9,
   "id": "9c2945cc",
   "metadata": {},
   "outputs": [
    {
     "name": "stdout",
     "output_type": "stream",
     "text": [
      "[[80, 150], [0.1, 6], [0, 100], [0.1, 10], [10, 20]] ['ordinal', 'ordinal', 'ordinal', 'ordinal', 'ordinal'] [array([ 80.,  85.,  90.,  95., 100., 105., 110., 115., 120., 125., 130.,\n",
      "       135., 140., 145., 150.]), array([0.1 , 1.28, 2.46, 3.64, 4.82, 6.  ]), array([  0.,  10.,  20.,  30.,  40.,  50.,  60.,  70.,  80.,  90., 100.]), array([ 0.1       ,  0.62105263,  1.14210526,  1.66315789,  2.18421053,\n",
      "        2.70526316,  3.22631579,  3.74736842,  4.26842105,  4.78947368,\n",
      "        5.31052632,  5.83157895,  6.35263158,  6.87368421,  7.39473684,\n",
      "        7.91578947,  8.43684211,  8.95789474,  9.47894737, 10.        ]), array([10., 15., 20.])]\n"
     ]
    }
   ],
   "source": [
    "X_ranges = parameter_space.X_ranges\n",
    "X_types = parameter_space.X_types\n",
    "encodings = parameter_space.encodings\n",
    "print(X_ranges, X_types, encodings)"
   ]
  },
  {
   "cell_type": "code",
   "execution_count": 14,
   "id": "b1bb598e",
   "metadata": {},
   "outputs": [],
   "source": [
    "X_init_lhc_original = doe.randomized_design(\n",
    "    n_dim = len(params), \n",
    "    n_points = 5)"
   ]
  },
  {
   "cell_type": "code",
   "execution_count": 45,
   "id": "f444c685",
   "metadata": {},
   "outputs": [],
   "source": [
    "X_init_lhc = unit_to_encode_ParameterSpace(X_init_lhc_original, parameter_space)"
   ]
  },
  {
   "cell_type": "code",
   "execution_count": 46,
   "id": "07fd6471",
   "metadata": {},
   "outputs": [
    {
     "data": {
      "text/plain": [
       "array([[0.78571429, 0.6       , 0.8       , 0.52631579, 0.5       ],\n",
       "       [0.57142857, 0.2       , 0.9       , 0.68421053, 0.        ],\n",
       "       [0.5       , 0.6       , 0.9       , 0.94736842, 0.        ],\n",
       "       [0.        , 0.        , 0.1       , 0.47368421, 0.        ],\n",
       "       [0.5       , 0.4       , 0.7       , 0.84210526, 0.5       ]])"
      ]
     },
     "execution_count": 46,
     "metadata": {},
     "output_type": "execute_result"
    }
   ],
   "source": [
    "X_init_lhc"
   ]
  },
  {
   "cell_type": "code",
   "execution_count": 47,
   "id": "f29cd172",
   "metadata": {},
   "outputs": [
    {
     "data": {
      "text/plain": [
       "array([[135.0, 3.6400000000000006, 80.0, 5.310526315789474, 15.0],\n",
       "       [120.0, 1.2800000000000002, 90.0, 6.873684210526316, 10.0],\n",
       "       [115.0, 3.6400000000000006, 90.0, 9.478947368421053, 10.0],\n",
       "       [80.0, 0.1, 10.0, 4.7894736842105265, 10.0],\n",
       "       [115.0, 2.4600000000000004, 70.0, 8.436842105263159, 15.0]],\n",
       "      dtype=object)"
      ]
     },
     "execution_count": 47,
     "metadata": {},
     "output_type": "execute_result"
    }
   ],
   "source": [
    "real_X_init_lhc = encode_to_real_ParameterSpace(X_init_lhc_original, parameter_space)\n",
    "real_X_init_lhc"
   ]
  },
  {
   "cell_type": "code",
   "execution_count": 51,
   "id": "5bb672c6",
   "metadata": {},
   "outputs": [
    {
     "data": {
      "text/plain": [
       "numpy.float64"
      ]
     },
     "execution_count": 51,
     "metadata": {},
     "output_type": "execute_result"
    }
   ],
   "source": [
    "type(real_X_init_lhc[0][0])"
   ]
  },
  {
   "cell_type": "code",
   "execution_count": 18,
   "id": "cc80ff9f",
   "metadata": {},
   "outputs": [],
   "source": [
    "X = X_init_lhc_original\n",
    "X_types=parameter_space.X_types\n",
    "encodings=parameter_space.encodings\n",
    "X_ranges=parameter_space.X_ranges\n",
    "log_flags = None\n",
    "decimals = None"
   ]
  },
  {
   "cell_type": "code",
   "execution_count": 19,
   "id": "8417cb20",
   "metadata": {},
   "outputs": [],
   "source": [
    "# unit_to_encode_X internal debugging\n",
    "if len(X.shape)<2:\n",
    "    X = copy.deepcopy(X)\n",
    "    X = np.expand_dims(X, axis=1) #If 1D, make it 2D array\n",
    "\n",
    "n_dim = X.shape[1] #the number of column in X\n",
    "\n",
    "if X_ranges is None: # X_ranges not defined\n",
    "    X_ranges = [0,1] * n_dim\n",
    "\n",
    "if log_flags is None: log_flags = [False] * n_dim"
   ]
  },
  {
   "cell_type": "code",
   "execution_count": 37,
   "id": "9b4e4bb1",
   "metadata": {},
   "outputs": [
    {
     "name": "stdout",
     "output_type": "stream",
     "text": [
      "=============\n",
      "[0.         0.07142857 0.14285714 0.21428571 0.28571429 0.35714286\n",
      " 0.42857143 0.5        0.57142857 0.64285714 0.71428571 0.78571429\n",
      " 0.85714286 0.92857143 1.        ]\n",
      "[0.80557668 0.55921321 0.53436738 0.03114544 0.48747172]\n",
      "[0.78571429 0.57142857 0.5        0.         0.5       ]\n",
      "=============\n",
      "[0.  0.2 0.4 0.6 0.8 1. ]\n",
      "[0.58642523 0.13069317 0.65088171 0.09564741 0.32731275]\n",
      "[0.6 0.2 0.6 0.  0.4]\n",
      "=============\n",
      "[0.  0.1 0.2 0.3 0.4 0.5 0.6 0.7 0.8 0.9 1. ]\n",
      "[0.83398037 0.94692524 0.86934115 0.1347139  0.72186644]\n",
      "[0.8 0.9 0.9 0.1 0.7]\n",
      "=============\n",
      "[0.         0.05263158 0.10526316 0.15789474 0.21052632 0.26315789\n",
      " 0.31578947 0.36842105 0.42105263 0.47368421 0.52631579 0.57894737\n",
      " 0.63157895 0.68421053 0.73684211 0.78947368 0.84210526 0.89473684\n",
      " 0.94736842 1.        ]\n",
      "[0.52251516 0.65931094 0.93818274 0.47995371 0.83146511]\n",
      "[0.52631579 0.68421053 0.94736842 0.47368421 0.84210526]\n",
      "=============\n",
      "[0.  0.5 1. ]\n",
      "[0.66401006 0.20932834 0.12501675 0.01203822 0.35314582]\n",
      "[0.5 0.  0.  0.  0.5]\n"
     ]
    }
   ],
   "source": [
    "# Initialize with a zero matrix\n",
    "from nextorch.utils import unitscale_xv\n",
    "from nextorch.utils import encode_xv\n",
    "\n",
    "Xencode = np.zeros((X.shape[0], X.shape[1]))\n",
    "for i in range(n_dim):\n",
    "    xi = X[:,i]\n",
    "    # scale based on the type\n",
    "    if X_types[i] == 'continuous':  \n",
    "        Xencode[:, i] = xi\n",
    "    else: #categorical and oridinal\n",
    "        encoding_unit = unitscale_xv(encodings[i], X_ranges[i])\n",
    "        Xencode[:, i] = encode_xv(xi, encoding_unit)\n",
    "        print(\"=============\")\n",
    "        print(encoding_unit)\n",
    "        print(xi)\n",
    "        print(Xencode[:, i])\n",
    "        \n",
    "    # Operate on a log scale\n",
    "    if log_flags[i]: \n",
    "        Xencode[:,i] =  np.log10(Xencode[:, i])"
   ]
  },
  {
   "cell_type": "code",
   "execution_count": 38,
   "id": "08af1124",
   "metadata": {},
   "outputs": [
    {
     "data": {
      "text/plain": [
       "array([[0.78571429, 0.6       , 0.8       , 0.52631579, 0.5       ],\n",
       "       [0.57142857, 0.2       , 0.9       , 0.68421053, 0.        ],\n",
       "       [0.5       , 0.6       , 0.9       , 0.94736842, 0.        ],\n",
       "       [0.        , 0.        , 0.1       , 0.47368421, 0.        ],\n",
       "       [0.5       , 0.4       , 0.7       , 0.84210526, 0.5       ]])"
      ]
     },
     "execution_count": 38,
     "metadata": {},
     "output_type": "execute_result"
    }
   ],
   "source": [
    "Xencode"
   ]
  },
  {
   "cell_type": "code",
   "execution_count": 42,
   "id": "a2e722d2",
   "metadata": {},
   "outputs": [
    {
     "data": {
      "text/plain": [
       "array([0.78571429, 0.57142857, 0.5       , 0.        , 0.5       ])"
      ]
     },
     "execution_count": 42,
     "metadata": {},
     "output_type": "execute_result"
    }
   ],
   "source": [
    "Xencode[:, 0]"
   ]
  },
  {
   "cell_type": "code",
   "execution_count": 40,
   "id": "556d7cd0",
   "metadata": {},
   "outputs": [
    {
     "data": {
      "text/plain": [
       "4"
      ]
     },
     "execution_count": 40,
     "metadata": {},
     "output_type": "execute_result"
    }
   ],
   "source": []
  },
  {
   "cell_type": "code",
   "execution_count": null,
   "id": "5dbcc8e8",
   "metadata": {},
   "outputs": [],
   "source": []
  }
 ],
 "metadata": {
  "kernelspec": {
   "display_name": "Python 3 (ipykernel)",
   "language": "python",
   "name": "python3"
  },
  "language_info": {
   "codemirror_mode": {
    "name": "ipython",
    "version": 3
   },
   "file_extension": ".py",
   "mimetype": "text/x-python",
   "name": "python",
   "nbconvert_exporter": "python",
   "pygments_lexer": "ipython3",
   "version": "3.8.13"
  }
 },
 "nbformat": 4,
 "nbformat_minor": 5
}
